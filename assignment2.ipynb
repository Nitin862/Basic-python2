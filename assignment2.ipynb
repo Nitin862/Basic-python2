{
 "cells": [
  {
   "cell_type": "code",
   "execution_count": null,
   "id": "01194c1f-8480-4a50-a9d7-f8ff72285f93",
   "metadata": {},
   "outputs": [],
   "source": [
    "# Q1. How do you comment code in Python? What are the different types of comments?\n",
    " # we can comment either by using # symbol or '''/ \"\"\" for multiline comments."
   ]
  },
  {
   "cell_type": "code",
   "execution_count": 1,
   "id": "5a201399-6e57-4045-82ac-d0bf50f1ff7f",
   "metadata": {},
   "outputs": [],
   "source": [
    "#Q2. What are variables in Python? How do you declare and assign values to variables?\n",
    "# in python variable are space in the system which are assigned to a value. it can be any interger or number , string or character.\n",
    "# we assign the value of variable as follows.\n",
    "Nitin=25\n",
    "l1='Datascience'"
   ]
  },
  {
   "cell_type": "code",
   "execution_count": 3,
   "id": "aaedd895-48c1-43e1-a106-05815234213f",
   "metadata": {},
   "outputs": [
    {
     "data": {
      "text/plain": [
       "float"
      ]
     },
     "execution_count": 3,
     "metadata": {},
     "output_type": "execute_result"
    }
   ],
   "source": [
    "# Q3. How do you convert one data type to another in Python?\n",
    "# we can use conversion function to convert one data type to another example\n",
    "nitin=23\n",
    "data=float(nitin) # integer to float\n",
    "type(data)"
   ]
  },
  {
   "cell_type": "code",
   "execution_count": 4,
   "id": "b015cb09-8853-4076-bff5-84f0bb73648c",
   "metadata": {},
   "outputs": [
    {
     "data": {
      "text/plain": [
       "str"
      ]
     },
     "execution_count": 4,
     "metadata": {},
     "output_type": "execute_result"
    }
   ],
   "source": [
    "x=56    # integer to string\n",
    "y=str(x)\n",
    "type(y)"
   ]
  },
  {
   "cell_type": "code",
   "execution_count": 5,
   "id": "df3236ee-ae6a-4d1f-9c7f-acdabc391523",
   "metadata": {},
   "outputs": [
    {
     "data": {
      "text/plain": [
       "int"
      ]
     },
     "execution_count": 5,
     "metadata": {},
     "output_type": "execute_result"
    }
   ],
   "source": [
    "name= '234'   #string to integer\n",
    "u=int(name)\n",
    "type(u)"
   ]
  },
  {
   "cell_type": "code",
   "execution_count": 10,
   "id": "6eec44bc-a313-4fd2-89cd-9e8124acb691",
   "metadata": {},
   "outputs": [],
   "source": [
    " #4.How do you write and execute a Python script from the command line?\n",
    "    #we can acess and execute apython script from a commnad line in by writing any python code in any text editor and saving the file with extension as\n",
    "   # .py.Now accessing the file in command line and then run the python command followed by the file name.(the latest version of python should be named first)'''"
   ]
  },
  {
   "cell_type": "code",
   "execution_count": null,
   "id": "59259f56-94b4-4675-a909-e1433be90670",
   "metadata": {},
   "outputs": [],
   "source": [
    "# 5.Given a list my_list = [1, 2, 3, 4, 5], write the code to slice the list and obtain the sub-list [2, 3]."
   ]
  },
  {
   "cell_type": "code",
   "execution_count": 11,
   "id": "9366416e-5de5-4e0c-abd3-de16f1385d9c",
   "metadata": {},
   "outputs": [
    {
     "name": "stdout",
     "output_type": "stream",
     "text": [
      "[2, 3]\n"
     ]
    }
   ],
   "source": [
    "my_list=[1,2,3,4,5]\n",
    "sub_list=my_list[1:3]  # as to slice the list we take the element index starting and the desired last index position+1\n",
    "print(sub_list)"
   ]
  },
  {
   "cell_type": "code",
   "execution_count": 12,
   "id": "ef1d95f3-ba3e-48f8-a2ed-3c2446b9633f",
   "metadata": {},
   "outputs": [],
   "source": [
    "#Q6. What is a complex number in mathematics, and how is it represented in Python?"
   ]
  },
  {
   "cell_type": "code",
   "execution_count": 13,
   "id": "c311f855-283a-402d-8482-a9481b52fc0d",
   "metadata": {},
   "outputs": [],
   "source": [
    "# complex number in python in the mixture of real and imagniary number. the real number is represented normally like an int but the complex number is \n",
    "#represented by an int followed by 'j'."
   ]
  },
  {
   "cell_type": "code",
   "execution_count": 14,
   "id": "051116e5-44e6-4dcd-8fbc-816df148fe10",
   "metadata": {},
   "outputs": [
    {
     "data": {
      "text/plain": [
       "5.0"
      ]
     },
     "execution_count": 14,
     "metadata": {},
     "output_type": "execute_result"
    }
   ],
   "source": [
    "z=5+4j\n",
    "z.real"
   ]
  },
  {
   "cell_type": "code",
   "execution_count": 15,
   "id": "92fb69e5-db31-4196-b9fc-26244b439903",
   "metadata": {},
   "outputs": [
    {
     "data": {
      "text/plain": [
       "4.0"
      ]
     },
     "execution_count": 15,
     "metadata": {},
     "output_type": "execute_result"
    }
   ],
   "source": [
    "z.imag"
   ]
  },
  {
   "cell_type": "code",
   "execution_count": 17,
   "id": "3e90b910-1847-456a-a0f5-e1c55c3a6403",
   "metadata": {},
   "outputs": [],
   "source": [
    "#Q7. What is the correct way to declare a variable named age and assign the value 25 to it?\n"
   ]
  },
  {
   "cell_type": "code",
   "execution_count": 18,
   "id": "3cec3a65-849c-4674-ae6a-3b9acaa908c8",
   "metadata": {},
   "outputs": [
    {
     "data": {
      "text/plain": [
       "25"
      ]
     },
     "execution_count": 18,
     "metadata": {},
     "output_type": "execute_result"
    }
   ],
   "source": [
    "age: int=25\n",
    "age"
   ]
  },
  {
   "cell_type": "code",
   "execution_count": 19,
   "id": "b0ba001d-2a9a-49f7-aef8-18e993911b1d",
   "metadata": {},
   "outputs": [
    {
     "data": {
      "text/plain": [
       "float"
      ]
     },
     "execution_count": 19,
     "metadata": {},
     "output_type": "execute_result"
    }
   ],
   "source": [
    "#Q8. Declare a variable named price and assign the value 9.99 to it. What data type does this variable belong to?\n",
    "\n",
    "price=9.99\n",
    "type(price)\n"
   ]
  },
  {
   "cell_type": "code",
   "execution_count": 22,
   "id": "2161a53f-a5e4-4a9a-ae3e-c7f8ed4ef473",
   "metadata": {},
   "outputs": [
    {
     "name": "stdout",
     "output_type": "stream",
     "text": [
      "Nitin kumar Sinha\n"
     ]
    }
   ],
   "source": [
    "#Q9. Create a variable named name and assign your full name to it as a string. How would you print the value of this variable?\n",
    "name=\"Nitin kumar Sinha\"\n",
    "print(name)"
   ]
  },
  {
   "cell_type": "code",
   "execution_count": 23,
   "id": "f7af14c7-0d8d-48ac-a788-fcaac40d726d",
   "metadata": {},
   "outputs": [
    {
     "name": "stdout",
     "output_type": "stream",
     "text": [
      "World\n"
     ]
    }
   ],
   "source": [
    "#Q10. Given the string \"Hello, World!\", extract the substring \"World\".\n",
    "first=\"Hello,World!\"\n",
    "sub_string=first[6:11] # here we have used forward indexing we can also use backward indexing\n",
    "print(sub_string)\n",
    "                 "
   ]
  },
  {
   "cell_type": "code",
   "execution_count": 33,
   "id": "82ebbbe0-d72b-4151-89dd-18973b654aee",
   "metadata": {},
   "outputs": [
    {
     "name": "stdin",
     "output_type": "stream",
     "text": [
      "Type True or False whether you are a student or not currently True\n"
     ]
    },
    {
     "name": "stdout",
     "output_type": "stream",
     "text": [
      "you are currently a student\n"
     ]
    }
   ],
   "source": [
    "#Create a variable named \"is_student\" and assign it a boolean value indicating whether you are currently a student or not.\n",
    "is_student1=input(\"Type True or False whether you are a student or not currently\")\n",
    "is_student=bool(is_student1)\n",
    "if is_student==True:\n",
    "    print('you are currently a student')\n",
    "elif is_student==False :\n",
    "        print(\"you are currently not a student\")\n",
    "else:\n",
    "    print(\"carefully type True and False wth considering it a case sensitive')\n",
    "    "
   ]
  },
  {
   "cell_type": "code",
   "execution_count": null,
   "id": "c9a3cdd4-82f1-4453-818a-aaae01f7cff6",
   "metadata": {},
   "outputs": [],
   "source": []
  }
 ],
 "metadata": {
  "kernelspec": {
   "display_name": "Python 3 (ipykernel)",
   "language": "python",
   "name": "python3"
  },
  "language_info": {
   "codemirror_mode": {
    "name": "ipython",
    "version": 3
   },
   "file_extension": ".py",
   "mimetype": "text/x-python",
   "name": "python",
   "nbconvert_exporter": "python",
   "pygments_lexer": "ipython3",
   "version": "3.10.8"
  }
 },
 "nbformat": 4,
 "nbformat_minor": 5
}
